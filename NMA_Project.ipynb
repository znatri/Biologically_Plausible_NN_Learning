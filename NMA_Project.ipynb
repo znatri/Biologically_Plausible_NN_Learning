{
  "nbformat": 4,
  "nbformat_minor": 0,
  "metadata": {
    "colab": {
      "provenance": [],
      "collapsed_sections": [
        "Q4YtEQqWpYXN"
      ],
      "include_colab_link": true
    },
    "kernelspec": {
      "name": "python3",
      "display_name": "Python 3"
    },
    "language_info": {
      "name": "python"
    }
  },
  "cells": [
    {
      "cell_type": "markdown",
      "metadata": {
        "id": "view-in-github",
        "colab_type": "text"
      },
      "source": [
        "<a href=\"https://colab.research.google.com/github/znatri/Biologically_Plausible_NN_Learning/blob/main/NMA_Project.ipynb\" target=\"_parent\"><img src=\"https://colab.research.google.com/assets/colab-badge.svg\" alt=\"Open In Colab\"/></a>"
      ]
    },
    {
      "cell_type": "code",
      "source": [
        "# !pip install -q ipympl ipywidgets mpl_interactions[\"jupyter\"] rsatoolbox torchlens\n",
        "# !pip install -q graphviz\n",
        "\n",
        "\n",
        "# !pip install -q torchlens\n",
        "# !pip install -q matplotlib numpy scikit-learn torch torchvision rsatoolbox scipy\n",
        "\n",
        "!pip install vibecheck numpy matplotlib torch torchvision tqdm ipywidgets memory-profiler requests scikit-learn torchmetrics --quiet"
      ],
      "metadata": {
        "id": "gsemiOKawcQs",
        "colab": {
          "base_uri": "https://localhost:8080/"
        },
        "outputId": "5f67c83b-8c4e-4019-9f3d-cdc054df7931"
      },
      "execution_count": 1,
      "outputs": [
        {
          "output_type": "stream",
          "name": "stdout",
          "text": [
            "  Preparing metadata (setup.py) ... \u001b[?25l\u001b[?25hdone\n",
            "  Preparing metadata (setup.py) ... \u001b[?25l\u001b[?25hdone\n",
            "  Building wheel for vibecheck (setup.py) ... \u001b[?25l\u001b[?25hdone\n",
            "  Building wheel for datatops (setup.py) ... \u001b[?25l\u001b[?25hdone\n"
          ]
        }
      ]
    },
    {
      "cell_type": "code",
      "execution_count": 30,
      "metadata": {
        "id": "_uKwqioHYXu7"
      },
      "outputs": [],
      "source": [
        "# @title Importing dependencies\n",
        "\n",
        "from IPython.display import Image, SVG, display\n",
        "import os\n",
        "from pathlib import Path\n",
        "import contextlib\n",
        "import io\n",
        "import sys\n",
        "import warnings\n",
        "\n",
        "# Import future dependencies\n",
        "from __future__ import print_function\n",
        "\n",
        "# Standard library imports\n",
        "import argparse\n",
        "import warnings\n",
        "import logging\n",
        "from collections import OrderedDict\n",
        "\n",
        "# Third-party library imports\n",
        "import numpy as np\n",
        "import matplotlib.pyplot as plt\n",
        "from matplotlib.offsetbox import AnnotationBbox, OffsetImage\n",
        "from scipy import stats\n",
        "import ipywidgets as widgets\n",
        "from tqdm import tqdm\n",
        "\n",
        "# PyTorch imports\n",
        "import torch\n",
        "import torch.nn as nn\n",
        "import torch.nn.functional as F\n",
        "import torch.optim as optim\n",
        "from torch.optim.lr_scheduler import StepLR\n",
        "import torchvision\n",
        "from torchvision import transforms, datasets\n",
        "import torchlens as tl\n",
        "from torchvision.utils import make_grid\n",
        "\n",
        "# scikit-learn imports\n",
        "from sklearn.linear_model import Ridge\n",
        "from sklearn.metrics.pairwise import linear_kernel\n",
        "\n",
        "# rsatoolbox imports\n",
        "import rsatoolbox\n",
        "from rsatoolbox.data import Dataset\n",
        "from rsatoolbox.rdm.calc import calc_rdm\n",
        "\n",
        "# Jupyter-specific imports\n",
        "%matplotlib inline"
      ]
    },
    {
      "cell_type": "code",
      "source": [
        "# @title Figure settings\n",
        "\n",
        "import ipywidgets as widgets       # interactive display\n",
        "%config InlineBackend.figure_format = 'retina'\n",
        "plt.style.use(\"https://raw.githubusercontent.com/ClimateMatchAcademy/course-content/main/cma.mplstyle\")"
      ],
      "metadata": {
        "id": "XVGaA-VmZQsr",
        "cellView": "form"
      },
      "execution_count": 19,
      "outputs": []
    },
    {
      "cell_type": "code",
      "source": [
        "# @title Plotting functions\n",
        "\n",
        "def sample_images(data_loader, n=5, plot=False):\n",
        "    \"\"\"\n",
        "    Samples a specified number of images from a data loader.\n",
        "\n",
        "    Inputs:\n",
        "    - data_loader (torch.utils.data.DataLoader): Data loader containing images and labels.\n",
        "    - n (int): Number of images to sample per class.\n",
        "    - plot (bool): Whether to plot the sampled images using matplotlib.\n",
        "\n",
        "    Outpus:\n",
        "    - imgs (torch.Tensor): Sampled images.\n",
        "    - labels (torch.Tensor): Corresponding labels for the sampled images.\n",
        "    \"\"\"\n",
        "    with plt.xkcd():\n",
        "\n",
        "        # imgs, labels = next(iter(data_loader))\n",
        "        # imgs1, labels1 = next(iter(data_loader))\n",
        "        # imgs2, labels2 = next(iter(data_loader))\n",
        "        # imgs3, labels3 = next(iter(data_loader))\n",
        "        # imgs = torch.cat([imgs, imgs1, imgs2, imgs3])\n",
        "        # labels = torch.cat([labels, labels1, labels2, labels3])\n",
        "\n",
        "        ########### NEW STUFFF #############################\n",
        "        imgs_list = []\n",
        "        labels_list = []\n",
        "\n",
        "        # Iterate over the data_loader and concatenate batches\n",
        "        for i, (imgs, labels) in enumerate(data_loader):\n",
        "            imgs_list.append(imgs)\n",
        "            labels_list.append(labels)\n",
        "            if i + 1 >= 10:\n",
        "                break\n",
        "\n",
        "        # Concatenate all collected batches\n",
        "        imgs = torch.cat(imgs_list, dim=0)\n",
        "        labels = torch.cat(labels_list, dim=0)\n",
        "        #####################################################\n",
        "\n",
        "\n",
        "        imgs_o = []\n",
        "        targets = []\n",
        "        for value in range(10):\n",
        "            imgs_o.append(imgs[np.where(labels == value)][0:n])\n",
        "            print(f'{imgs_o[value].shape=}')\n",
        "            targets.append([value]*5)\n",
        "\n",
        "        imgs = torch.cat(imgs_o, dim=0)\n",
        "        targets = torch.tensor(targets).flatten()\n",
        "\n",
        "        if plot:\n",
        "            plt.imshow(torch.moveaxis(make_grid(imgs, nrow=5, padding=0, normalize=False, pad_value=0), 0,-1))\n",
        "            plt.axis('off')\n",
        "\n",
        "    return imgs, targets\n",
        "\n",
        "\n",
        "def plot_maps(model_features, model_name):\n",
        "    \"\"\"\n",
        "    Plots representational dissimilarity matrices (RDMs) across different layers of a model.\n",
        "\n",
        "    Inputs:\n",
        "    - model_features (dict): a dictionary where keys are layer names and values are numpy arrays representing RDMs for each layer.\n",
        "    - model_name (str): the name of the model being visualized.\n",
        "    \"\"\"\n",
        "    with plt.xkcd():\n",
        "\n",
        "        fig = plt.figure(figsize=(14, 4))\n",
        "        fig.suptitle(f\"RDMs across layers for {model_name}\")\n",
        "        # and we add one plot per reference point\n",
        "        gs = fig.add_gridspec(1, len(model_features))\n",
        "        fig.subplots_adjust(wspace=0.2, hspace=0.2)\n",
        "\n",
        "        for l in range(len(model_features)):\n",
        "\n",
        "            layer = list(model_features.keys())[l]\n",
        "            map_ = np.squeeze(model_features[layer])\n",
        "\n",
        "            if len(map_.shape) < 2:\n",
        "                map_ = map_.reshape( (int(np.sqrt(map_.shape[0])), int(np.sqrt(map_.shape[0]))) )\n",
        "\n",
        "            map_ = map_ / np.max(map_)\n",
        "\n",
        "            ax = plt.subplot(gs[0,l])\n",
        "            ax_ = ax.imshow(map_, cmap='magma_r')\n",
        "            ax.set_title(f'{layer}')\n",
        "            ax.set_xlabel(\"input index\")\n",
        "            if l==0:\n",
        "              ax.set_ylabel(\"input index\")\n",
        "\n",
        "        fig.subplots_adjust(right=0.9)\n",
        "        cbar_ax = fig.add_axes([1.01, 0.18, 0.01, 0.53])\n",
        "        cbar = fig.colorbar(ax_, cax=cbar_ax)\n",
        "        cbar.set_label('Dissimilarity', rotation=270, labelpad=15)\n",
        "\n",
        "        plt.show()"
      ],
      "metadata": {
        "id": "TtC4HkZLvyLv"
      },
      "execution_count": 82,
      "outputs": []
    },
    {
      "cell_type": "markdown",
      "source": [
        "### Download MNIST Dataset"
      ],
      "metadata": {
        "id": "Q4YtEQqWpYXN"
      }
    },
    {
      "cell_type": "code",
      "source": [
        "# @markdown `download_mnist()`: Function to download MNIST.\n",
        "\n",
        "def download_mnist(train_prop=0.8, keep_prop=0.5):\n",
        "\n",
        "  valid_prop = 1 - train_prop\n",
        "\n",
        "  discard_prop = 1 - keep_prop\n",
        "\n",
        "  transform = torchvision.transforms.Compose(\n",
        "      [torchvision.transforms.ToTensor(),\n",
        "      torchvision.transforms.Normalize((0.1307,), (0.3081,))]\n",
        "      )\n",
        "\n",
        "\n",
        "  with contextlib.redirect_stdout(io.StringIO()): #to suppress output\n",
        "\n",
        "      full_train_set = torchvision.datasets.MNIST(\n",
        "          root=\"./data/\", train=True, download=True, transform=transform\n",
        "          )\n",
        "      full_test_set = torchvision.datasets.MNIST(\n",
        "          root=\"./data/\", train=False, download=True, transform=transform\n",
        "          )\n",
        "\n",
        "  train_set, valid_set, _ = torch.utils.data.random_split(\n",
        "      full_train_set,\n",
        "      [train_prop * keep_prop, valid_prop * keep_prop, discard_prop]\n",
        "      )\n",
        "  test_set, _ = torch.utils.data.random_split(\n",
        "      full_test_set,\n",
        "      [keep_prop, discard_prop]\n",
        "      )\n",
        "\n",
        "  print(\"Number of examples retained:\")\n",
        "  print(f\"  {len(train_set)} (training)\")\n",
        "  print(f\"  {len(valid_set)} (validation)\")\n",
        "  print(f\"  {len(test_set)} (test)\")\n",
        "\n",
        "  return train_set, valid_set, test_set"
      ],
      "metadata": {
        "id": "UM8QuQwdZXXs"
      },
      "execution_count": 83,
      "outputs": []
    },
    {
      "cell_type": "code",
      "execution_count": 85,
      "metadata": {
        "execution": {},
        "id": "a15149be-ef35-40cb-81f6-b8358fa2fe66",
        "colab": {
          "base_uri": "https://localhost:8080/"
        },
        "outputId": "c33cf948-fa22-4e60-ab54-ff8511463e96"
      },
      "outputs": [
        {
          "output_type": "stream",
          "name": "stdout",
          "text": [
            "yeah\n",
            "Number of examples retained:\n",
            "  24001 (training)\n",
            "  5999 (validation)\n",
            "  5000 (test)\n"
          ]
        }
      ],
      "source": [
        "if 'torchvision' in sys.modules: print('yeah')\n",
        "train_set, valid_set, test_set = download_mnist()"
      ]
    },
    {
      "cell_type": "code",
      "source": [
        "print(test_set)"
      ],
      "metadata": {
        "id": "uwcY7PXGkgrR",
        "outputId": "ca54fc6a-7a9e-4313-c90a-b7ea18d7235e",
        "colab": {
          "base_uri": "https://localhost:8080/"
        }
      },
      "execution_count": 86,
      "outputs": [
        {
          "output_type": "stream",
          "name": "stdout",
          "text": [
            "<torch.utils.data.dataset.Subset object at 0x7d81a53929e0>\n"
          ]
        }
      ]
    },
    {
      "cell_type": "markdown",
      "source": [
        "### Define MultiLayerPerceptron"
      ],
      "metadata": {
        "id": "_tslPpR9penO"
      }
    },
    {
      "cell_type": "code",
      "execution_count": 87,
      "metadata": {
        "execution": {},
        "id": "x6MM59QBslKf"
      },
      "outputs": [],
      "source": [
        "NUM_INPUTS = np.product(train_set.dataset.data[0].shape) # size of an MNIST image\n",
        "NUM_OUTPUTS = 10 # number of MNIST classes\n",
        "\n",
        "class MultiLayerPerceptron(torch.nn.Module):\n",
        "  \"\"\"\n",
        "  Simple multilayer perceptron model class with one hidden layer.\n",
        "  \"\"\"\n",
        "\n",
        "  def __init__(\n",
        "      self,\n",
        "      num_inputs=NUM_INPUTS,\n",
        "      num_hidden=100,\n",
        "      num_outputs=NUM_OUTPUTS,\n",
        "      activation_type=\"sigmoid\",\n",
        "      bias=False,\n",
        "      ):\n",
        "    \"\"\"\n",
        "    Initializes a multilayer perceptron with a single hidden layer.\n",
        "\n",
        "    Arguments:\n",
        "    - num_inputs (int, optional): number of input units (i.e., image size)\n",
        "    - num_hidden (int, optional): number of hidden units in the hidden layer\n",
        "    - num_outputs (int, optional): number of output units (i.e., number of\n",
        "      classes)\n",
        "    - activation_type (str, optional): type of activation to use for the hidden\n",
        "      layer ('sigmoid', 'tanh', 'relu' or 'linear')\n",
        "    - bias (bool, optional): if True, each linear layer will have biases in\n",
        "      addition to weights\n",
        "    \"\"\"\n",
        "\n",
        "\n",
        "    super().__init__()\n",
        "\n",
        "    self.num_inputs = num_inputs\n",
        "    self.num_hidden = num_hidden\n",
        "    self.num_outputs = num_outputs\n",
        "    self.activation_type = activation_type\n",
        "    self.bias = bias\n",
        "\n",
        "    # default weights (and biases, if applicable) initialization is used\n",
        "    # see https://github.com/pytorch/pytorch/blob/main/torch/nn/modules/linear.py\n",
        "    self.lin1 = torch.nn.Linear(num_inputs, num_hidden, bias=bias)\n",
        "    self.lin2 = torch.nn.Linear(num_hidden, num_outputs, bias=bias)\n",
        "\n",
        "    self._store_initial_weights_biases()\n",
        "\n",
        "    self._set_activation() # activation on the hidden layer\n",
        "    self.softmax = torch.nn.Softmax(dim=1) # activation on the output layer\n",
        "\n",
        "\n",
        "  def _store_initial_weights_biases(self):\n",
        "    \"\"\"\n",
        "    Stores a copy of the network's initial weights and biases.\n",
        "    \"\"\"\n",
        "\n",
        "    self.init_lin1_weight = self.lin1.weight.data.clone()\n",
        "    self.init_lin2_weight = self.lin2.weight.data.clone()\n",
        "    if self.bias:\n",
        "      self.init_lin1_bias = self.lin1.bias.data.clone()\n",
        "      self.init_lin2_bias = self.lin2.bias.data.clone()\n",
        "\n",
        "  def _set_activation(self):\n",
        "    \"\"\"\n",
        "    Sets the activation function used for the hidden layer.\n",
        "    \"\"\"\n",
        "\n",
        "    if self.activation_type.lower() == \"sigmoid\":\n",
        "      self.activation = torch.nn.Sigmoid() # maps to [0, 1]\n",
        "    elif self.activation_type.lower() == \"tanh\":\n",
        "      self.activation = torch.nn.Tanh() # maps to [-1, 1]\n",
        "    elif self.activation_type.lower() == \"relu\":\n",
        "      self.activation = torch.nn.ReLU() # maps to positive\n",
        "    elif self.activation_type.lower() == \"identity\":\n",
        "      self.activation = torch.nn.Identity() # maps to same\n",
        "    else:\n",
        "      raise NotImplementedError(\n",
        "          f\"{self.activation_type} activation type not recognized. Only \"\n",
        "          \"'sigmoid', 'relu' and 'identity' have been implemented so far.\"\n",
        "          )\n",
        "\n",
        "  def forward(self, X, y=None):\n",
        "    \"\"\"\n",
        "    Runs a forward pass through the network.\n",
        "\n",
        "    Arguments:\n",
        "    - X (torch.Tensor): Batch of input images.\n",
        "    - y (torch.Tensor, optional): Batch of targets. This variable is not used\n",
        "      here. However, it may be needed for other learning rules, to it is\n",
        "      included as an argument here for compatibility.\n",
        "\n",
        "    Returns:\n",
        "    - y_pred (torch.Tensor): Predicted targets.\n",
        "    \"\"\"\n",
        "\n",
        "    h = self.activation(self.lin1(X.reshape(-1, self.num_inputs)))\n",
        "    y_pred = self.softmax(self.lin2(h))\n",
        "    return y_pred\n",
        "\n",
        "  def forward_backprop(self, X):\n",
        "    \"\"\"\n",
        "    Identical to forward(). Should not be overwritten when creating new\n",
        "    child classes to implement other learning rules, as this method is used\n",
        "    to compare the gradients calculated with other learning rules to those\n",
        "    calculated with backprop.\n",
        "    \"\"\"\n",
        "\n",
        "    h = self.activation(self.lin1(X.reshape(-1, self.num_inputs)))\n",
        "    y_pred = self.softmax(self.lin2(h))\n",
        "    return y_pred\n",
        "\n",
        "\n",
        "  def list_parameters(self):\n",
        "    \"\"\"\n",
        "    Returns a list of model names for a gradient dictionary.\n",
        "\n",
        "    Returns:\n",
        "    - params_list (list): List of parameter names.\n",
        "    \"\"\"\n",
        "\n",
        "    params_list = list()\n",
        "\n",
        "    for layer_str in [\"lin1\", \"lin2\"]:\n",
        "      params_list.append(f\"{layer_str}_weight\")\n",
        "      if self.bias:\n",
        "        params_list.append(f\"{layer_str}_bias\")\n",
        "\n",
        "    return params_list\n",
        "\n",
        "\n",
        "  def gather_gradient_dict(self):\n",
        "    \"\"\"\n",
        "    Gathers a gradient dictionary for the model's parameters. Raises a\n",
        "    runtime error if any parameters have no gradients.\n",
        "\n",
        "    Returns:\n",
        "    - gradient_dict (dict): A dictionary of gradients for each parameter.\n",
        "    \"\"\"\n",
        "\n",
        "    params_list = self.list_parameters()\n",
        "\n",
        "    gradient_dict = dict()\n",
        "    for param_name in params_list:\n",
        "      layer_str, param_str = param_name.split(\"_\")\n",
        "      layer = getattr(self, layer_str)\n",
        "      grad = getattr(layer, param_str).grad\n",
        "      if grad is None:\n",
        "        raise RuntimeError(\"No gradient was computed\")\n",
        "      gradient_dict[param_name] = grad.detach().clone().numpy()\n",
        "\n",
        "    return gradient_dict"
      ]
    },
    {
      "cell_type": "code",
      "execution_count": 88,
      "metadata": {
        "execution": {},
        "id": "cFV5yFA7tCwa"
      },
      "outputs": [],
      "source": [
        "# Model\n",
        "NUM_HIDDEN = 100\n",
        "ACTIVATION = \"sigmoid\" # output constrained between 0 and 1\n",
        "BIAS = False\n",
        "\n",
        "MLP = MultiLayerPerceptron(\n",
        "    num_hidden=NUM_HIDDEN,\n",
        "    activation_type=ACTIVATION,\n",
        "    bias=BIAS,\n",
        "    )\n",
        "\n",
        "\n",
        "# Dataloaders\n",
        "BATCH_SIZE = 32\n",
        "\n",
        "train_loader = torch.utils.data.DataLoader(train_set, batch_size=BATCH_SIZE, shuffle=True)\n",
        "valid_loader = torch.utils.data.DataLoader(valid_set, batch_size=BATCH_SIZE, shuffle=False)\n",
        "test_loader = torch.utils.data.DataLoader(test_set, batch_size=BATCH_SIZE, shuffle=False)"
      ]
    },
    {
      "cell_type": "code",
      "source": [
        "train_features, train_labels = next(iter(test_loader))\n",
        "print(f\"Feature batch shape: {train_features.size()}\")\n",
        "print(f\"Labels batch shape: {train_labels.size()}\")"
      ],
      "metadata": {
        "id": "Xjfk1fdIiK-D",
        "outputId": "8b4dc19f-4eb0-4d83-b9b6-137d11b5b9da",
        "colab": {
          "base_uri": "https://localhost:8080/"
        }
      },
      "execution_count": 89,
      "outputs": [
        {
          "output_type": "stream",
          "name": "stdout",
          "text": [
            "Feature batch shape: torch.Size([32, 1, 28, 28])\n",
            "Labels batch shape: torch.Size([32])\n"
          ]
        }
      ]
    },
    {
      "cell_type": "markdown",
      "source": [
        "### Create a BasicOptim for backward propagation"
      ],
      "metadata": {
        "id": "Xaq1sYmypr8P"
      }
    },
    {
      "cell_type": "code",
      "execution_count": 90,
      "metadata": {
        "execution": {},
        "id": "aNovmyCx0zUd"
      },
      "outputs": [],
      "source": [
        "class BasicOptimizer(torch.optim.Optimizer):\n",
        "  \"\"\"\n",
        "  Simple optimizer class based on the SGD optimizer.\n",
        "  \"\"\"\n",
        "  def __init__(self, params, lr=0.01, weight_decay=0):\n",
        "    \"\"\"\n",
        "    Initializes a basic optimizer object.\n",
        "\n",
        "    Arguments:\n",
        "    - params (generator): Generator for torch model parameters.\n",
        "    - lr (float, optional): Learning rate.\n",
        "    - weight_decay (float, optional): Weight decay.\n",
        "    \"\"\"\n",
        "\n",
        "    if lr < 0.0:\n",
        "        raise ValueError(f\"Invalid learning rate: {lr}\")\n",
        "    if weight_decay < 0.0:\n",
        "        raise ValueError(f\"Invalid weight_decay value: {weight_decay}\")\n",
        "\n",
        "    defaults = dict(\n",
        "        lr=lr,\n",
        "        weight_decay=weight_decay,\n",
        "        )\n",
        "\n",
        "    super().__init__(params, defaults)\n",
        "\n",
        "  def step(self):\n",
        "      \"\"\"\n",
        "      Performs a single optimization step.\n",
        "      \"\"\"\n",
        "\n",
        "      for group in self.param_groups:\n",
        "        for p in group[\"params\"]:\n",
        "\n",
        "          # only update parameters with gradients\n",
        "          if p.grad is not None:\n",
        "\n",
        "            # apply weight decay to gradient, if applicable\n",
        "            if group[\"weight_decay\"] != 0:\n",
        "              p.grad = p.grad.add(p, alpha=group[\"weight_decay\"])\n",
        "\n",
        "            # apply gradient-based update\n",
        "            p.data.add_(p.grad, alpha=-group[\"lr\"])"
      ]
    },
    {
      "cell_type": "code",
      "execution_count": 91,
      "metadata": {
        "execution": {},
        "id": "0-c2PQOC006r"
      },
      "outputs": [],
      "source": [
        "LR = 0.01\n",
        "backprop_optimizer = BasicOptimizer(MLP.parameters(), lr=LR)"
      ]
    },
    {
      "cell_type": "markdown",
      "source": [
        "### Train the model"
      ],
      "metadata": {
        "id": "G5bNC9pKp3GM"
      }
    },
    {
      "cell_type": "code",
      "execution_count": 92,
      "metadata": {
        "execution": {},
        "id": "LHnydloQuU3F"
      },
      "outputs": [],
      "source": [
        "#@markdown `train_model(MLP, train_loader, valid_loader, optimizer)`: Main function.\n",
        "#@markdown Trains the model across epochs. Aggregates loss and accuracy statistics\n",
        "#@markdown from the training and validation datasets into a results dictionary which is returned.\n",
        "def train_model(MLP, train_loader, valid_loader, optimizer, num_epochs=5):\n",
        "  \"\"\"\n",
        "  Train a model for several epochs.\n",
        "\n",
        "  Arguments:\n",
        "  - MLP (torch model): Model to train.\n",
        "  - train_loader (torch dataloader): Dataloader to use to train the model.\n",
        "  - valid_loader (torch dataloader): Dataloader to use to validate the model.\n",
        "  - optimizer (torch optimizer): Optimizer to use to update the model.\n",
        "  - num_epochs (int, optional): Number of epochs to train model.\n",
        "\n",
        "  Returns:\n",
        "  - results_dict (dict): Dictionary storing results across epochs on training\n",
        "    and validation data.\n",
        "  \"\"\"\n",
        "\n",
        "  results_dict = {\n",
        "      \"avg_train_losses\": list(),\n",
        "      \"avg_valid_losses\": list(),\n",
        "      \"avg_train_accuracies\": list(),\n",
        "      \"avg_valid_accuracies\": list(),\n",
        "  }\n",
        "\n",
        "  for e in tqdm(range(num_epochs)):\n",
        "    no_train = True if e == 0 else False # to get a baseline\n",
        "    latest_epoch_results_dict = train_epoch(\n",
        "        MLP, train_loader, valid_loader, optimizer=optimizer, no_train=no_train\n",
        "        )\n",
        "\n",
        "    for key, result in latest_epoch_results_dict.items():\n",
        "      if key in results_dict.keys() and isinstance(results_dict[key], list):\n",
        "        results_dict[key].append(latest_epoch_results_dict[key])\n",
        "      else:\n",
        "        results_dict[key] = result # copy latest\n",
        "\n",
        "  return results_dict\n",
        "\n",
        "\n",
        "def train_epoch(MLP, train_loader, valid_loader, optimizer, no_train=False):\n",
        "  \"\"\"\n",
        "  Train a model for one epoch.\n",
        "\n",
        "  Arguments:\n",
        "  - MLP (torch model): Model to train.\n",
        "  - train_loader (torch dataloader): Dataloader to use to train the model.\n",
        "  - valid_loader (torch dataloader): Dataloader to use to validate the model.\n",
        "  - optimizer (torch optimizer): Optimizer to use to update the model.\n",
        "  - no_train (bool, optional): If True, the model is not trained for the\n",
        "    current epoch. Allows a baseline (chance) performance to be computed in the\n",
        "    first epoch before training starts.\n",
        "\n",
        "  Returns:\n",
        "  - epoch_results_dict (dict): Dictionary storing epoch results on training\n",
        "    and validation data.\n",
        "  \"\"\"\n",
        "\n",
        "  criterion = torch.nn.NLLLoss()\n",
        "\n",
        "  epoch_results_dict = dict()\n",
        "  for dataset in [\"train\", \"valid\"]:\n",
        "    for sub_str in [\"correct_by_class\", \"seen_by_class\"]:\n",
        "      epoch_results_dict[f\"{dataset}_{sub_str}\"] = {\n",
        "          i:0 for i in range(MLP.num_outputs)\n",
        "          }\n",
        "\n",
        "  MLP.train()\n",
        "  train_losses, train_acc = list(), list()\n",
        "  for X, y in train_loader:\n",
        "    y_pred = MLP(X, y=y)\n",
        "    loss = criterion(torch.log(y_pred), y)\n",
        "    acc = (torch.argmax(y_pred.detach(), axis=1) == y).sum() / len(y)\n",
        "    train_losses.append(loss.item() * len(y))\n",
        "    train_acc.append(acc.item() * len(y))\n",
        "    update_results_by_class_in_place(\n",
        "        y, y_pred.detach(), epoch_results_dict, dataset=\"train\",\n",
        "        num_classes=MLP.num_outputs\n",
        "        )\n",
        "    optimizer.zero_grad()\n",
        "    if not no_train:\n",
        "      loss.backward()\n",
        "      optimizer.step()\n",
        "\n",
        "  num_items = len(train_loader.dataset)\n",
        "  epoch_results_dict[\"avg_train_losses\"] = np.sum(train_losses) / num_items\n",
        "  epoch_results_dict[\"avg_train_accuracies\"] = np.sum(train_acc) / num_items * 100\n",
        "\n",
        "  MLP.eval()\n",
        "  valid_losses, valid_acc = list(), list()\n",
        "  with torch.no_grad():\n",
        "    for X, y in valid_loader:\n",
        "      y_pred = MLP(X)\n",
        "      loss = criterion(torch.log(y_pred), y)\n",
        "      acc = (torch.argmax(y_pred, axis=1) == y).sum() / len(y)\n",
        "      valid_losses.append(loss.item() * len(y))\n",
        "      valid_acc.append(acc.item() * len(y))\n",
        "      update_results_by_class_in_place(\n",
        "          y, y_pred.detach(), epoch_results_dict, dataset=\"valid\"\n",
        "          )\n",
        "\n",
        "  num_items = len(valid_loader.dataset)\n",
        "  epoch_results_dict[\"avg_valid_losses\"] = np.sum(valid_losses) / num_items\n",
        "  epoch_results_dict[\"avg_valid_accuracies\"] = np.sum(valid_acc) / num_items * 100\n",
        "\n",
        "  return epoch_results_dict\n",
        "\n",
        "\n",
        "def update_results_by_class_in_place(y, y_pred, result_dict, dataset=\"train\",\n",
        "                                     num_classes=10):\n",
        "  \"\"\"\n",
        "  Updates results dictionary in place during a training epoch by adding data\n",
        "  needed to compute the accuracies for each class.\n",
        "\n",
        "  Arguments:\n",
        "  - y (torch Tensor): target labels\n",
        "  - y_pred (torch Tensor): predicted targets\n",
        "  - result_dict (dict): Dictionary storing epoch results on training\n",
        "    and validation data.\n",
        "  - dataset (str, optional): Dataset for which results are being added.\n",
        "  - num_classes (int, optional): Number of classes.\n",
        "  \"\"\"\n",
        "\n",
        "  correct_by_class = None\n",
        "  seen_by_class = None\n",
        "\n",
        "  y_pred = np.argmax(y_pred, axis=1)\n",
        "  if len(y) != len(y_pred):\n",
        "    raise RuntimeError(\"Number of predictions does not match number of targets.\")\n",
        "\n",
        "  for i in result_dict[f\"{dataset}_seen_by_class\"].keys():\n",
        "    idxs = np.where(y == int(i))[0]\n",
        "    result_dict[f\"{dataset}_seen_by_class\"][int(i)] += len(idxs)\n",
        "\n",
        "    num_correct = int(sum(y[idxs] == y_pred[idxs]))\n",
        "    result_dict[f\"{dataset}_correct_by_class\"][int(i)] += num_correct"
      ]
    },
    {
      "cell_type": "code",
      "execution_count": 93,
      "metadata": {
        "execution": {},
        "id": "a8118def-336a-4ffe-86b3-069537520dda",
        "colab": {
          "base_uri": "https://localhost:8080/"
        },
        "outputId": "1899ede4-1e58-45fe-a674-7046b4b67f1a"
      },
      "outputs": [
        {
          "output_type": "stream",
          "name": "stderr",
          "text": [
            "100%|██████████| 5/5 [00:49<00:00,  9.98s/it]\n"
          ]
        }
      ],
      "source": [
        "NUM_EPOCHS = 5\n",
        "\n",
        "MLP_results_dict = train_model(\n",
        "    MLP,\n",
        "    train_loader,\n",
        "    valid_loader,\n",
        "    optimizer=backprop_optimizer,\n",
        "    num_epochs=NUM_EPOCHS\n",
        "    )"
      ]
    },
    {
      "cell_type": "code",
      "source": [
        "import numpy as np\n",
        "def print_results_by_class(results_dict, dataset=\"train\"):\n",
        "  \"\"\"\n",
        "  Prints results by class from a results dictionary.\n",
        "\n",
        "  Arguments:\n",
        "  - results_dict (dict): Dictionary storing results across epochs on training\n",
        "    and validation data.\n",
        "  - dataset (str, optional): Dataset to print results for.\n",
        "  \"\"\"\n",
        "\n",
        "  print(f\"Results by class ({dataset} set):\")\n",
        "  for i in range(MLP.num_outputs):\n",
        "    num_correct = results_dict[f\"{dataset}_correct_by_class\"][i]\n",
        "    num_seen = results_dict[f\"{dataset}_seen_by_class\"][i]\n",
        "    if num_seen > 0:\n",
        "      acc = num_correct / num_seen * 100\n",
        "    else:\n",
        "      acc = 0\n",
        "    print(f\"  Class {i}: {acc:.2f}% ({num_correct}/{num_seen})\")\n",
        "\n",
        "\n",
        "def test_model(MLP, test_loader):\n",
        "  \"\"\"\n",
        "  Tests a model on a test set.\n",
        "\n",
        "  Arguments:\n",
        "  - MLP (torch model): Model to test.\n",
        "  - test_loader (torch dataloader): Dataloader to use to test the model.\n",
        "\n",
        "  Returns:\n",
        "  - test_acc (float): Test accuracy.\n",
        "  \"\"\"\n",
        "\n",
        "  MLP.eval()\n",
        "  test_acc = list()\n",
        "  with torch.no_grad():\n",
        "    for X, y in test_loader:\n",
        "      y_pred = MLP(X)\n",
        "      acc = (torch.argmax(y_pred, axis=1) == y).sum() / len(y)\n",
        "      test_acc.append(acc.item() * len(y))\n",
        "\n",
        "  test_acc = np.sum(test_acc) / len(test_loader.dataset) * 100\n",
        "  print(f\"Test accuracy: {test_acc:.2f}%\")\n",
        "  return test_acc\n",
        "\n",
        "\n"
      ],
      "metadata": {
        "id": "KZaQxYagtWU0"
      },
      "execution_count": 94,
      "outputs": []
    },
    {
      "cell_type": "code",
      "source": [
        "print_results_by_class(MLP_results_dict, dataset=\"train\")\n",
        "print_results_by_class(MLP_results_dict, dataset=\"valid\")\n",
        "_ = test_model(MLP, test_loader)"
      ],
      "metadata": {
        "id": "jvDOWs9yx_ga",
        "colab": {
          "base_uri": "https://localhost:8080/"
        },
        "outputId": "0eb30294-819e-406e-c73e-89029ae60c4a"
      },
      "execution_count": 95,
      "outputs": [
        {
          "output_type": "stream",
          "name": "stdout",
          "text": [
            "Results by class (train set):\n",
            "  Class 0: 96.00% (2256/2350)\n",
            "  Class 1: 96.15% (2623/2728)\n",
            "  Class 2: 84.42% (2000/2369)\n",
            "  Class 3: 84.58% (2052/2426)\n",
            "  Class 4: 91.93% (2176/2367)\n",
            "  Class 5: 80.78% (1706/2112)\n",
            "  Class 6: 93.36% (2234/2393)\n",
            "  Class 7: 90.19% (2279/2527)\n",
            "  Class 8: 83.29% (1984/2382)\n",
            "  Class 9: 84.32% (1979/2347)\n",
            "Results by class (valid set):\n",
            "  Class 0: 96.17% (578/601)\n",
            "  Class 1: 96.97% (641/661)\n",
            "  Class 2: 84.68% (525/620)\n",
            "  Class 3: 85.59% (511/597)\n",
            "  Class 4: 92.29% (515/558)\n",
            "  Class 5: 83.15% (449/540)\n",
            "  Class 6: 93.31% (586/628)\n",
            "  Class 7: 91.07% (551/605)\n",
            "  Class 8: 81.48% (484/594)\n",
            "  Class 9: 86.05% (512/595)\n",
            "Test accuracy: 89.62%\n"
          ]
        }
      ]
    },
    {
      "cell_type": "code",
      "source": [
        "for param in MLP.parameters():\n",
        "  print(type(param), param.size())"
      ],
      "metadata": {
        "id": "QKOQOrFicR2_",
        "outputId": "6c5ff16c-da73-4a19-f61e-79d6be11d44a",
        "colab": {
          "base_uri": "https://localhost:8080/"
        }
      },
      "execution_count": 96,
      "outputs": [
        {
          "output_type": "stream",
          "name": "stdout",
          "text": [
            "<class 'torch.nn.parameter.Parameter'> torch.Size([100, 784])\n",
            "<class 'torch.nn.parameter.Parameter'> torch.Size([10, 100])\n"
          ]
        }
      ]
    },
    {
      "cell_type": "markdown",
      "source": [
        "### Add Helper functions for Adversarial Test Dataset\n",
        "\n",
        "Borrowed from W1D2 Tutorial 1"
      ],
      "metadata": {
        "id": "bn5Nym3Ao2t6"
      }
    },
    {
      "cell_type": "code",
      "source": [
        "def fgsm_attack(image, epsilon, data_grad):\n",
        "    \"\"\"\n",
        "    Performs FGSM attack on an image.\n",
        "\n",
        "    Inputs:\n",
        "    - image (torch.Tensor): Original image.\n",
        "    - epsilon (float): Perturbation magnitude.\n",
        "    - data_grad (torch.Tensor): Gradient of the data.\n",
        "\n",
        "    Outputs:\n",
        "    - perturbed_image (torch.Tensor): Perturbed image after FGSM attack.\n",
        "    \"\"\"\n",
        "    sign_data_grad = data_grad.sign()\n",
        "    perturbed_image = image + epsilon * sign_data_grad\n",
        "    perturbed_image = torch.clamp(perturbed_image, 0, 1)\n",
        "    return perturbed_image\n",
        "\n",
        "def denorm(batch, mean=[0.1307], std=[0.3081]):\n",
        "    \"\"\"\n",
        "    Converts a batch of normalized tensors to their original scale.\n",
        "\n",
        "    Inputs:\n",
        "    - batch (torch.Tensor): Batch of normalized tensors.\n",
        "    - mean (torch.Tensor or list): Mean used for normalization.\n",
        "    - std (torch.Tensor or list): Standard deviation used for normalization.\n",
        "\n",
        "    Outputs:\n",
        "    - torch.Tensor: Batch of tensors without normalization applied to them.\n",
        "    \"\"\"\n",
        "    if isinstance(mean, list):\n",
        "        mean = torch.tensor(mean).to(batch.device)\n",
        "    if isinstance(std, list):\n",
        "        std = torch.tensor(std).to(batch.device)\n",
        "\n",
        "    return batch * std.view(1, -1, 1, 1) + mean.view(1, -1, 1, 1)\n",
        "\n",
        "def generate_adversarial(model, imgs, targets, epsilon):\n",
        "    \"\"\"\n",
        "    Generates adversarial examples using FGSM attack.\n",
        "\n",
        "    Inputs:\n",
        "    - model (torch.nn.Module): The model to attack.\n",
        "    - imgs (torch.Tensor): Batch of images.\n",
        "    - targets (torch.Tensor): Batch of target labels.\n",
        "    - epsilon (float): Perturbation magnitude.\n",
        "\n",
        "    Outputs:\n",
        "    - adv_imgs (torch.Tensor): Batch of adversarial images.\n",
        "    \"\"\"\n",
        "    adv_imgs = []\n",
        "    print(f'{imgs.shape=}')\n",
        "    for img, target in zip(imgs, targets):\n",
        "        img = img.unsqueeze(0)\n",
        "        target = target.unsqueeze(0)\n",
        "        img.requires_grad = True\n",
        "\n",
        "        output = model(img)\n",
        "        loss = F.nll_loss(output, target)\n",
        "\n",
        "        model.zero_grad()\n",
        "        loss.backward()\n",
        "\n",
        "        data_grad = img.grad.data\n",
        "        data_denorm = denorm(img)\n",
        "        perturbed_data = fgsm_attack(data_denorm, epsilon, data_grad)\n",
        "        perturbed_data_normalized = transforms.Normalize((0.1307,), (0.3081,))(perturbed_data)\n",
        "\n",
        "        adv_imgs.append(perturbed_data_normalized.detach())\n",
        "\n",
        "    return torch.cat(adv_imgs)\n",
        "\n",
        "def test_adversarial(model, imgs, targets):\n",
        "    \"\"\"\n",
        "    Tests the model on adversarial examples and prints the accuracy.\n",
        "\n",
        "    Inputs:\n",
        "    - model (torch.nn.Module): The model to be tested.\n",
        "    - imgs (torch.Tensor): Batch of adversarial images.\n",
        "    - targets (torch.Tensor): Batch of target labels.\n",
        "    \"\"\"\n",
        "    correct = 0\n",
        "    output = model(imgs)\n",
        "    pred = output.argmax(dim=1, keepdim=True)  # get the index of the max log-probability\n",
        "    # print(f'{pred.shape=}')\n",
        "    # print(f'{targets.shape=}')\n",
        "    # print(f'd_correct={pred.eq(targets.view_as(pred)).sum().item()}')\n",
        "\n",
        "    correct += pred.eq(targets.view_as(pred)).sum().item()\n",
        "\n",
        "    final_acc = correct / float(len(imgs))\n",
        "    print(f\"adversarial test accuracy = {correct} / {len(imgs)} = {final_acc}\")\n",
        "\n",
        "def extract_features(model, imgs, return_layers, plot='none'):\n",
        "    \"\"\"\n",
        "    Extracts features from specified layers of the model.\n",
        "\n",
        "    Inputs:\n",
        "    - model (torch.nn.Module): The model from which to extract features.\n",
        "    - imgs (torch.Tensor): Batch of input images.\n",
        "    - return_layers (list): List of layer names from which to extract features.\n",
        "    - plot (str): Option to plot the features. Default is 'none'.\n",
        "\n",
        "    Outputs:\n",
        "    - model_features (dict): A dictionary with layer names as keys and extracted features as values.\n",
        "    \"\"\"\n",
        "    model_history = tl.log_forward_pass(model, imgs, layers_to_save='all', vis_opt=plot)\n",
        "    model_features = {}\n",
        "    for layer in return_layers:\n",
        "        model_features[layer] = model_history[layer].tensor_contents.flatten(1)\n",
        "\n",
        "    return model_features"
      ],
      "metadata": {
        "id": "DrSNjYWzo_rB"
      },
      "execution_count": 97,
      "outputs": []
    },
    {
      "cell_type": "code",
      "source": [
        "imgs, targets = sample_images(test_loader, n=5, plot = True)"
      ],
      "metadata": {
        "colab": {
          "base_uri": "https://localhost:8080/",
          "height": 946
        },
        "id": "YYqr-DgKua2e",
        "outputId": "512f59da-3221-456a-88df-e825fc6760bc"
      },
      "execution_count": 98,
      "outputs": [
        {
          "output_type": "stream",
          "name": "stderr",
          "text": [
            "WARNING:matplotlib.image:Clipping input data to the valid range for imshow with RGB data ([0..1] for floats or [0..255] for integers).\n"
          ]
        },
        {
          "output_type": "stream",
          "name": "stdout",
          "text": [
            "imgs_o[value].shape=torch.Size([5, 1, 28, 28])\n",
            "imgs_o[value].shape=torch.Size([5, 1, 28, 28])\n",
            "imgs_o[value].shape=torch.Size([5, 1, 28, 28])\n",
            "imgs_o[value].shape=torch.Size([5, 1, 28, 28])\n",
            "imgs_o[value].shape=torch.Size([5, 1, 28, 28])\n",
            "imgs_o[value].shape=torch.Size([5, 1, 28, 28])\n",
            "imgs_o[value].shape=torch.Size([5, 1, 28, 28])\n",
            "imgs_o[value].shape=torch.Size([5, 1, 28, 28])\n",
            "imgs_o[value].shape=torch.Size([5, 1, 28, 28])\n",
            "imgs_o[value].shape=torch.Size([5, 1, 28, 28])\n"
          ]
        },
        {
          "output_type": "display_data",
          "data": {
            "text/plain": [
              "<Figure size 800x600 with 1 Axes>"
            ],
            "image/png": "[encoded data removed]"
          },
          "metadata": {
            "image/png": {
              "width": 297,
              "height": 575
            }
          }
        }
      ]
    },
    {
      "cell_type": "code",
      "source": [
        "adv_imgs = generate_adversarial(MLP, imgs, targets, epsilon=0.2)"
      ],
      "metadata": {
        "id": "yWmasoHX0ggO",
        "colab": {
          "base_uri": "https://localhost:8080/"
        },
        "outputId": "c8d36e68-de97-4340-b609-6f6e789f3010"
      },
      "execution_count": 102,
      "outputs": [
        {
          "output_type": "stream",
          "name": "stdout",
          "text": [
            "imgs.shape=torch.Size([50, 1, 28, 28])\n"
          ]
        }
      ]
    },
    {
      "cell_type": "code",
      "source": [
        "plt.imshow(torch.moveaxis(make_grid(adv_imgs.cpu(), nrow=5, padding=0, normalize=False, pad_value=0), 0,-1))\n",
        "plt.axis('off')"
      ],
      "metadata": {
        "colab": {
          "base_uri": "https://localhost:8080/",
          "height": 785
        },
        "id": "OaAX8PYy1cP5",
        "outputId": "08e2752b-98b2-4b54-e069-3232dafc8fa2"
      },
      "execution_count": 103,
      "outputs": [
        {
          "output_type": "stream",
          "name": "stderr",
          "text": [
            "WARNING:matplotlib.image:Clipping input data to the valid range for imshow with RGB data ([0..1] for floats or [0..255] for integers).\n"
          ]
        },
        {
          "output_type": "execute_result",
          "data": {
            "text/plain": [
              "(-0.5, 139.5, 279.5, -0.5)"
            ]
          },
          "metadata": {},
          "execution_count": 103
        },
        {
          "output_type": "display_data",
          "data": {
            "text/plain": [
              "<Figure size 800x600 with 1 Axes>"
            ],
            "image/png": "[encoded data removed]"
          },
          "metadata": {
            "image/png": {
              "width": 297,
              "height": 575
            }
          }
        }
      ]
    },
    {
      "cell_type": "code",
      "source": [
        "print(f'{adv_imgs.shape=}')\n",
        "test_adversarial(MLP, adv_imgs, targets)"
      ],
      "metadata": {
        "colab": {
          "base_uri": "https://localhost:8080/"
        },
        "id": "r_blqjxR1toG",
        "outputId": "ca04cd98-1fc2-4e79-9127-cea7ea04bdef"
      },
      "execution_count": 104,
      "outputs": [
        {
          "output_type": "stream",
          "name": "stdout",
          "text": [
            "adv_imgs.shape=torch.Size([50, 1, 28, 28])\n",
            "adversarial test accuracy = 4 / 50 = 0.08\n"
          ]
        }
      ]
    },
    {
      "cell_type": "markdown",
      "source": [
        "### Introduce Feedback Control to MLP for Hebbian Learning **Rules**"
      ],
      "metadata": {
        "id": "IIOtcJTlpP9Q"
      }
    },
    {
      "cell_type": "code",
      "source": [
        "class FB_Function(torch.autograd.Function):\n",
        "  \"\"\"\n",
        "  Gradient computing function class for Hebbian learning.\n",
        "  \"\"\"\n",
        "\n",
        "  @staticmethod\n",
        "  def forward(context, input, weight, bias=None, nonlinearity=None, target=None):\n",
        "    \"\"\"\n",
        "    Forward pass method for the layer. Computes the output of the layer and\n",
        "    stores variables needed for the backward pass.\n",
        "\n",
        "    Arguments:\n",
        "    - context (torch context): context in which variables can be stored for\n",
        "      the backward pass.\n",
        "    - input (torch tensor): input to the layer.\n",
        "    - weight (torch tensor): layer weights.\n",
        "    - bias (torch tensor, optional): layer biases.\n",
        "    - nonlinearity (torch functional, optional): nonlinearity for the layer.\n",
        "    - target (torch tensor, optional): layer target, if applicable.\n",
        "\n",
        "    Returns:\n",
        "    - output (torch tensor): layer output.\n",
        "    \"\"\"\n",
        "\n",
        "    # compute the output for the layer (linear layer with non-linearity)\n",
        "    output = input.mm(weight.t())\n",
        "    if bias is not None:\n",
        "      output += bias.unsqueeze(0).expand_as(output)\n",
        "    if nonlinearity is not None:\n",
        "      output = nonlinearity(output)\n",
        "\n",
        "    # calculate the output to use for the backward pass\n",
        "    output_for_update = output if target is None else target\n",
        "\n",
        "    # store variables in the context for the backward pass\n",
        "    context.save_for_backward(input, weight, bias, output_for_update)\n",
        "\n",
        "    return output\n",
        "\n",
        "  @staticmethod\n",
        "  def backward(context, grad_output=None):\n",
        "    \"\"\"\n",
        "    Backward pass method for the layer. Computes and returns the gradients for\n",
        "    all variables passed to forward (returning None if not applicable).\n",
        "\n",
        "    Arguments:\n",
        "    - context (torch context): context in which variables can be stored for\n",
        "      the backward pass.\n",
        "    - input (torch tensor): input to the layer.\n",
        "    - weight (torch tensor): layer weights.\n",
        "    - bias (torch tensor, optional): layer biases.\n",
        "    - nonlinearity (torch functional, optional): nonlinearity for the layer.\n",
        "    - target (torch tensor, optional): layer target, if applicable.\n",
        "\n",
        "    Returns:\n",
        "    - grad_input (None): gradients for the input (None, since gradients are not\n",
        "      backpropagated in Hebbian learning).\n",
        "    - grad_weight (torch tensor): gradients for the weights.\n",
        "    - grad_bias (torch tensor or None): gradients for the biases, if they aren't\n",
        "      None.\n",
        "    - grad_nonlinearity (None): gradients for the nonlinearity (None, since\n",
        "      gradients do not apply to the non-linearities).\n",
        "    - grad_target (None): gradients for the targets (None, since\n",
        "      gradients do not apply to the targets).\n",
        "    \"\"\"\n",
        "\n",
        "    input, weight, bias, output_for_update = context.saved_tensors\n",
        "    grad_input = None\n",
        "    grad_weight = None\n",
        "    grad_bias = None\n",
        "    grad_nonlinearity = None\n",
        "    grad_target = None\n",
        "\n",
        "    input_needs_grad = context.needs_input_grad[0]\n",
        "    if input_needs_grad:\n",
        "      pass\n",
        "\n",
        "    weight_needs_grad = context.needs_input_grad[1]\n",
        "    if weight_needs_grad:\n",
        "      grad_weight = output_for_update.t().mm(input)\n",
        "      grad_weight = grad_weight / len(input) # average across batch\n",
        "\n",
        "      # center around 0\n",
        "      grad_weight = grad_weight - grad_weight.mean(axis=0) # center around 0\n",
        "\n",
        "      ## or apply Oja's rule (not compatible with clamping outputs to the targets!)\n",
        "      # oja_subtract = output_for_update.pow(2).mm(grad_weight).mean(axis=0)\n",
        "      # grad_weight = grad_weight - oja_subtract\n",
        "\n",
        "      # take the negative, as the gradient will be subtracted\n",
        "      grad_weight = -grad_weight\n",
        "\n",
        "    if bias is not None:\n",
        "      bias_needs_grad = context.needs_input_grad[2]\n",
        "      if bias_needs_grad:\n",
        "        grad_bias = output_for_update.mean(axis=0) # average across batch\n",
        "\n",
        "        # center around 0\n",
        "        grad_bias = grad_bias - grad_bias.mean()\n",
        "\n",
        "        ## or apply an adaptation of Oja's rule for biases\n",
        "        ## (not compatible with clamping outputs to the targets!)\n",
        "        # oja_subtract = (output_for_update.pow(2) * bias).mean(axis=0)\n",
        "        # grad_bias = grad_bias - oja_subtract\n",
        "\n",
        "        # take the negative, as the gradient will be subtracted\n",
        "        grad_bias = -grad_bias\n",
        "\n",
        "    return grad_input, grad_weight, grad_bias, grad_nonlinearity, grad_target"
      ],
      "metadata": {
        "id": "7R1s4nBuqNwj"
      },
      "execution_count": null,
      "outputs": []
    },
    {
      "cell_type": "code",
      "execution_count": null,
      "metadata": {
        "execution": {},
        "id": "_7EF4yFxl6aS"
      },
      "outputs": [],
      "source": [
        "class FBMultiLayerPerceptron(MultiLayerPerceptron):\n",
        "  \"\"\"\n",
        "  Hebbian multilayer perceptron with one hidden layer.\n",
        "  \"\"\"\n",
        "\n",
        "  def __init__(self, clamp_output=True, **kwargs):\n",
        "    \"\"\"\n",
        "    Initializes a Hebbian multilayer perceptron object\n",
        "\n",
        "    Arguments:\n",
        "    - clamp_output (bool, optional): if True, outputs are clamped to targets,\n",
        "      if available, when computing weight updates.\n",
        "    \"\"\"\n",
        "\n",
        "    self.clamp_output = clamp_output\n",
        "    super().__init__(**kwargs)\n",
        "\n",
        "\n",
        "  def forward(self, X, y=None):\n",
        "    \"\"\"\n",
        "    Runs a forward pass through the network.\n",
        "\n",
        "    Arguments:\n",
        "    - X (torch.Tensor): Batch of input images.\n",
        "    - y (torch.Tensor, optional): Batch of targets, stored for the backward\n",
        "      pass to compute the gradients for the last layer.\n",
        "\n",
        "    Returns:\n",
        "    - y_pred (torch.Tensor): Predicted targets.\n",
        "    \"\"\"\n",
        "\n",
        "    h = FB_Function.apply(\n",
        "        X.reshape(-1, self.num_inputs),\n",
        "        self.lin1.weight,\n",
        "        self.lin1.bias,\n",
        "        self.activation,\n",
        "    )\n",
        "\n",
        "\n",
        "\n",
        "    # if targets are provided, they can be used instead of the last layer's\n",
        "    # output to train the last layer.\n",
        "    if y is None or not self.clamp_output:\n",
        "      targets = None\n",
        "    else:\n",
        "      targets = torch.nn.functional.one_hot(\n",
        "          y, num_classes=self.num_outputs\n",
        "          ).float()\n",
        "\n",
        "    y_pred = FB_Function.apply(\n",
        "        h,\n",
        "        self.lin2.weight,\n",
        "        self.lin2.bias,\n",
        "        self.softmax,\n",
        "        targets\n",
        "    )\n",
        "\n",
        "    #### COMPUTE CONTROL SIGNALS FOR EACH LAYER\n",
        "    criterion = torch.nn.NLLLoss()\n",
        "    loss = criterion(torch.log(y_pred), y)\n",
        "    loss.backward() # make sure this doesn't do anything weird\n",
        "\n",
        "    epsilon = 0.02\n",
        "    B = torch.random #idk what function to use go google\n",
        "    control_h = -epsilon * h.grad\n",
        "    control_y = -epsilon * y_pred.grad\n",
        "\n",
        "    # J = torch.autograd.function.jacobian()\n",
        "    ############################################\n",
        "\n",
        "    h = FB_Function.apply(\n",
        "        X.reshape(-1, self.num_inputs),\n",
        "        self.lin1.weight,\n",
        "        self.lin1.bias,\n",
        "        self.activation,\n",
        "    )\n",
        "    h += control_h\n",
        "\n",
        "\n",
        "\n",
        "    # if targets are provided, they can be used instead of the last layer's\n",
        "    # output to train the last layer.\n",
        "    if y is None or not self.clamp_output:\n",
        "      targets = None\n",
        "    else:\n",
        "      targets = torch.nn.functional.one_hot(\n",
        "          y, num_classes=self.num_outputs\n",
        "          ).float()\n",
        "\n",
        "    y_pred = FB_Function.apply(\n",
        "        h,\n",
        "        self.lin2.weight,\n",
        "        self.lin2.bias,\n",
        "        self.softmax,\n",
        "        targets\n",
        "    )\n",
        "\n",
        "    y_pred += control_y\n",
        "\n",
        "    return y_pred"
      ]
    },
    {
      "cell_type": "code",
      "execution_count": null,
      "metadata": {
        "execution": {},
        "id": "33066022-7cda-442d-8f4f-86bc6a41c97d",
        "colab": {
          "base_uri": "https://localhost:8080/",
          "height": 596
        },
        "outputId": "b3c755c7-d8d3-441d-c4ff-01ce636d4d1f"
      },
      "outputs": [
        {
          "output_type": "stream",
          "name": "stderr",
          "text": [
            "  0%|          | 0/10 [00:00<?, ?it/s]<ipython-input-26-ff4f429949f8>:65: UserWarning: The .grad attribute of a Tensor that is not a leaf Tensor is being accessed. Its .grad attribute won't be populated during autograd.backward(). If you indeed want the .grad field to be populated for a non-leaf Tensor, use .retain_grad() on the non-leaf Tensor. If you access the non-leaf Tensor by mistake, make sure you access the leaf Tensor instead. See github.com/pytorch/pytorch/pull/30531 for more informations. (Triggered internally at aten/src/ATen/core/TensorBody.h:489.)\n",
            "  control_h = -epsilon * h.grad\n",
            "  0%|          | 0/10 [00:00<?, ?it/s]\n"
          ]
        },
        {
          "output_type": "error",
          "ename": "TypeError",
          "evalue": "unsupported operand type(s) for *: 'float' and 'NoneType'",
          "traceback": [
            "\u001b[0;31m---------------------------------------------------------------------------\u001b[0m",
            "\u001b[0;31mTypeError\u001b[0m                                 Traceback (most recent call last)",
            "\u001b[0;32m<ipython-input-27-dfc6c43d84c0>\u001b[0m in \u001b[0;36m<cell line: 11>\u001b[0;34m()\u001b[0m\n\u001b[1;32m      9\u001b[0m \u001b[0mFB_optimizer\u001b[0m \u001b[0;34m=\u001b[0m \u001b[0mBasicOptimizer\u001b[0m\u001b[0;34m(\u001b[0m\u001b[0mFBMLP\u001b[0m\u001b[0;34m.\u001b[0m\u001b[0mparameters\u001b[0m\u001b[0;34m(\u001b[0m\u001b[0;34m)\u001b[0m\u001b[0;34m,\u001b[0m \u001b[0mlr\u001b[0m\u001b[0;34m=\u001b[0m\u001b[0mFB_LR\u001b[0m\u001b[0;34m)\u001b[0m\u001b[0;34m\u001b[0m\u001b[0;34m\u001b[0m\u001b[0m\n\u001b[1;32m     10\u001b[0m \u001b[0;34m\u001b[0m\u001b[0m\n\u001b[0;32m---> 11\u001b[0;31m FB_results_dict = train_model(\n\u001b[0m\u001b[1;32m     12\u001b[0m     \u001b[0mFBMLP\u001b[0m\u001b[0;34m,\u001b[0m\u001b[0;34m\u001b[0m\u001b[0;34m\u001b[0m\u001b[0m\n\u001b[1;32m     13\u001b[0m     \u001b[0mtrain_loader\u001b[0m\u001b[0;34m,\u001b[0m\u001b[0;34m\u001b[0m\u001b[0;34m\u001b[0m\u001b[0m\n",
            "\u001b[0;32m<ipython-input-14-66855de84e2c>\u001b[0m in \u001b[0;36mtrain_model\u001b[0;34m(MLP, train_loader, valid_loader, optimizer, num_epochs)\u001b[0m\n\u001b[1;32m     27\u001b[0m   \u001b[0;32mfor\u001b[0m \u001b[0me\u001b[0m \u001b[0;32min\u001b[0m \u001b[0mtqdm\u001b[0m\u001b[0;34m(\u001b[0m\u001b[0mrange\u001b[0m\u001b[0;34m(\u001b[0m\u001b[0mnum_epochs\u001b[0m\u001b[0;34m)\u001b[0m\u001b[0;34m)\u001b[0m\u001b[0;34m:\u001b[0m\u001b[0;34m\u001b[0m\u001b[0;34m\u001b[0m\u001b[0m\n\u001b[1;32m     28\u001b[0m     \u001b[0mno_train\u001b[0m \u001b[0;34m=\u001b[0m \u001b[0;32mTrue\u001b[0m \u001b[0;32mif\u001b[0m \u001b[0me\u001b[0m \u001b[0;34m==\u001b[0m \u001b[0;36m0\u001b[0m \u001b[0;32melse\u001b[0m \u001b[0;32mFalse\u001b[0m \u001b[0;31m# to get a baseline\u001b[0m\u001b[0;34m\u001b[0m\u001b[0;34m\u001b[0m\u001b[0m\n\u001b[0;32m---> 29\u001b[0;31m     latest_epoch_results_dict = train_epoch(\n\u001b[0m\u001b[1;32m     30\u001b[0m         \u001b[0mMLP\u001b[0m\u001b[0;34m,\u001b[0m \u001b[0mtrain_loader\u001b[0m\u001b[0;34m,\u001b[0m \u001b[0mvalid_loader\u001b[0m\u001b[0;34m,\u001b[0m \u001b[0moptimizer\u001b[0m\u001b[0;34m=\u001b[0m\u001b[0moptimizer\u001b[0m\u001b[0;34m,\u001b[0m \u001b[0mno_train\u001b[0m\u001b[0;34m=\u001b[0m\u001b[0mno_train\u001b[0m\u001b[0;34m\u001b[0m\u001b[0;34m\u001b[0m\u001b[0m\n\u001b[1;32m     31\u001b[0m         )\n",
            "\u001b[0;32m<ipython-input-14-66855de84e2c>\u001b[0m in \u001b[0;36mtrain_epoch\u001b[0;34m(MLP, train_loader, valid_loader, optimizer, no_train)\u001b[0m\n\u001b[1;32m     70\u001b[0m   \u001b[0mtrain_losses\u001b[0m\u001b[0;34m,\u001b[0m \u001b[0mtrain_acc\u001b[0m \u001b[0;34m=\u001b[0m \u001b[0mlist\u001b[0m\u001b[0;34m(\u001b[0m\u001b[0;34m)\u001b[0m\u001b[0;34m,\u001b[0m \u001b[0mlist\u001b[0m\u001b[0;34m(\u001b[0m\u001b[0;34m)\u001b[0m\u001b[0;34m\u001b[0m\u001b[0;34m\u001b[0m\u001b[0m\n\u001b[1;32m     71\u001b[0m   \u001b[0;32mfor\u001b[0m \u001b[0mX\u001b[0m\u001b[0;34m,\u001b[0m \u001b[0my\u001b[0m \u001b[0;32min\u001b[0m \u001b[0mtrain_loader\u001b[0m\u001b[0;34m:\u001b[0m\u001b[0;34m\u001b[0m\u001b[0;34m\u001b[0m\u001b[0m\n\u001b[0;32m---> 72\u001b[0;31m     \u001b[0my_pred\u001b[0m \u001b[0;34m=\u001b[0m \u001b[0mMLP\u001b[0m\u001b[0;34m(\u001b[0m\u001b[0mX\u001b[0m\u001b[0;34m,\u001b[0m \u001b[0my\u001b[0m\u001b[0;34m=\u001b[0m\u001b[0my\u001b[0m\u001b[0;34m)\u001b[0m\u001b[0;34m\u001b[0m\u001b[0;34m\u001b[0m\u001b[0m\n\u001b[0m\u001b[1;32m     73\u001b[0m     \u001b[0mloss\u001b[0m \u001b[0;34m=\u001b[0m \u001b[0mcriterion\u001b[0m\u001b[0;34m(\u001b[0m\u001b[0mtorch\u001b[0m\u001b[0;34m.\u001b[0m\u001b[0mlog\u001b[0m\u001b[0;34m(\u001b[0m\u001b[0my_pred\u001b[0m\u001b[0;34m)\u001b[0m\u001b[0;34m,\u001b[0m \u001b[0my\u001b[0m\u001b[0;34m)\u001b[0m\u001b[0;34m\u001b[0m\u001b[0;34m\u001b[0m\u001b[0m\n\u001b[1;32m     74\u001b[0m     \u001b[0macc\u001b[0m \u001b[0;34m=\u001b[0m \u001b[0;34m(\u001b[0m\u001b[0mtorch\u001b[0m\u001b[0;34m.\u001b[0m\u001b[0margmax\u001b[0m\u001b[0;34m(\u001b[0m\u001b[0my_pred\u001b[0m\u001b[0;34m.\u001b[0m\u001b[0mdetach\u001b[0m\u001b[0;34m(\u001b[0m\u001b[0;34m)\u001b[0m\u001b[0;34m,\u001b[0m \u001b[0maxis\u001b[0m\u001b[0;34m=\u001b[0m\u001b[0;36m1\u001b[0m\u001b[0;34m)\u001b[0m \u001b[0;34m==\u001b[0m \u001b[0my\u001b[0m\u001b[0;34m)\u001b[0m\u001b[0;34m.\u001b[0m\u001b[0msum\u001b[0m\u001b[0;34m(\u001b[0m\u001b[0;34m)\u001b[0m \u001b[0;34m/\u001b[0m \u001b[0mlen\u001b[0m\u001b[0;34m(\u001b[0m\u001b[0my\u001b[0m\u001b[0;34m)\u001b[0m\u001b[0;34m\u001b[0m\u001b[0;34m\u001b[0m\u001b[0m\n",
            "\u001b[0;32m/usr/local/lib/python3.10/dist-packages/torch/nn/modules/module.py\u001b[0m in \u001b[0;36m_wrapped_call_impl\u001b[0;34m(self, *args, **kwargs)\u001b[0m\n\u001b[1;32m   1530\u001b[0m             \u001b[0;32mreturn\u001b[0m \u001b[0mself\u001b[0m\u001b[0;34m.\u001b[0m\u001b[0m_compiled_call_impl\u001b[0m\u001b[0;34m(\u001b[0m\u001b[0;34m*\u001b[0m\u001b[0margs\u001b[0m\u001b[0;34m,\u001b[0m \u001b[0;34m**\u001b[0m\u001b[0mkwargs\u001b[0m\u001b[0;34m)\u001b[0m  \u001b[0;31m# type: ignore[misc]\u001b[0m\u001b[0;34m\u001b[0m\u001b[0;34m\u001b[0m\u001b[0m\n\u001b[1;32m   1531\u001b[0m         \u001b[0;32melse\u001b[0m\u001b[0;34m:\u001b[0m\u001b[0;34m\u001b[0m\u001b[0;34m\u001b[0m\u001b[0m\n\u001b[0;32m-> 1532\u001b[0;31m             \u001b[0;32mreturn\u001b[0m \u001b[0mself\u001b[0m\u001b[0;34m.\u001b[0m\u001b[0m_call_impl\u001b[0m\u001b[0;34m(\u001b[0m\u001b[0;34m*\u001b[0m\u001b[0margs\u001b[0m\u001b[0;34m,\u001b[0m \u001b[0;34m**\u001b[0m\u001b[0mkwargs\u001b[0m\u001b[0;34m)\u001b[0m\u001b[0;34m\u001b[0m\u001b[0;34m\u001b[0m\u001b[0m\n\u001b[0m\u001b[1;32m   1533\u001b[0m \u001b[0;34m\u001b[0m\u001b[0m\n\u001b[1;32m   1534\u001b[0m     \u001b[0;32mdef\u001b[0m \u001b[0m_call_impl\u001b[0m\u001b[0;34m(\u001b[0m\u001b[0mself\u001b[0m\u001b[0;34m,\u001b[0m \u001b[0;34m*\u001b[0m\u001b[0margs\u001b[0m\u001b[0;34m,\u001b[0m \u001b[0;34m**\u001b[0m\u001b[0mkwargs\u001b[0m\u001b[0;34m)\u001b[0m\u001b[0;34m:\u001b[0m\u001b[0;34m\u001b[0m\u001b[0;34m\u001b[0m\u001b[0m\n",
            "\u001b[0;32m/usr/local/lib/python3.10/dist-packages/torch/nn/modules/module.py\u001b[0m in \u001b[0;36m_call_impl\u001b[0;34m(self, *args, **kwargs)\u001b[0m\n\u001b[1;32m   1539\u001b[0m                 \u001b[0;32mor\u001b[0m \u001b[0m_global_backward_pre_hooks\u001b[0m \u001b[0;32mor\u001b[0m \u001b[0m_global_backward_hooks\u001b[0m\u001b[0;34m\u001b[0m\u001b[0;34m\u001b[0m\u001b[0m\n\u001b[1;32m   1540\u001b[0m                 or _global_forward_hooks or _global_forward_pre_hooks):\n\u001b[0;32m-> 1541\u001b[0;31m             \u001b[0;32mreturn\u001b[0m \u001b[0mforward_call\u001b[0m\u001b[0;34m(\u001b[0m\u001b[0;34m*\u001b[0m\u001b[0margs\u001b[0m\u001b[0;34m,\u001b[0m \u001b[0;34m**\u001b[0m\u001b[0mkwargs\u001b[0m\u001b[0;34m)\u001b[0m\u001b[0;34m\u001b[0m\u001b[0;34m\u001b[0m\u001b[0m\n\u001b[0m\u001b[1;32m   1542\u001b[0m \u001b[0;34m\u001b[0m\u001b[0m\n\u001b[1;32m   1543\u001b[0m         \u001b[0;32mtry\u001b[0m\u001b[0;34m:\u001b[0m\u001b[0;34m\u001b[0m\u001b[0;34m\u001b[0m\u001b[0m\n",
            "\u001b[0;32m<ipython-input-26-ff4f429949f8>\u001b[0m in \u001b[0;36mforward\u001b[0;34m(self, X, y)\u001b[0m\n\u001b[1;32m     63\u001b[0m     \u001b[0mepsilon\u001b[0m \u001b[0;34m=\u001b[0m \u001b[0;36m0.02\u001b[0m\u001b[0;34m\u001b[0m\u001b[0;34m\u001b[0m\u001b[0m\n\u001b[1;32m     64\u001b[0m     \u001b[0mB\u001b[0m \u001b[0;34m=\u001b[0m \u001b[0mtorch\u001b[0m\u001b[0;34m.\u001b[0m\u001b[0mrandom\u001b[0m \u001b[0;31m#idk what function to use go google\u001b[0m\u001b[0;34m\u001b[0m\u001b[0;34m\u001b[0m\u001b[0m\n\u001b[0;32m---> 65\u001b[0;31m     \u001b[0mcontrol_h\u001b[0m \u001b[0;34m=\u001b[0m \u001b[0;34m-\u001b[0m\u001b[0mepsilon\u001b[0m \u001b[0;34m*\u001b[0m \u001b[0mh\u001b[0m\u001b[0;34m.\u001b[0m\u001b[0mgrad\u001b[0m\u001b[0;34m\u001b[0m\u001b[0;34m\u001b[0m\u001b[0m\n\u001b[0m\u001b[1;32m     66\u001b[0m     \u001b[0mcontrol_y\u001b[0m \u001b[0;34m=\u001b[0m \u001b[0;34m-\u001b[0m\u001b[0mepsilon\u001b[0m \u001b[0;34m*\u001b[0m \u001b[0my_pred\u001b[0m\u001b[0;34m.\u001b[0m\u001b[0mgrad\u001b[0m\u001b[0;34m\u001b[0m\u001b[0;34m\u001b[0m\u001b[0m\n\u001b[1;32m     67\u001b[0m \u001b[0;34m\u001b[0m\u001b[0m\n",
            "\u001b[0;31mTypeError\u001b[0m: unsupported operand type(s) for *: 'float' and 'NoneType'"
          ]
        }
      ],
      "source": [
        "\n",
        "\n",
        "FB_LR = 1e-4 # lower, since Hebbian gradients are much bigger than backprop gradients\n",
        "\n",
        "FBMLP = FBMultiLayerPerceptron(\n",
        "    num_hidden=NUM_HIDDEN,\n",
        "    num_outputs=10,\n",
        "    clamp_output=False,\n",
        ")\n",
        "\n",
        "FB_optimizer = BasicOptimizer(FBMLP.parameters(), lr=FB_LR)\n",
        "\n",
        "FB_results_dict = train_model(\n",
        "    FBMLP,\n",
        "    train_loader,\n",
        "    valid_loader,\n",
        "    FB_optimizer,\n",
        "    num_epochs=10\n",
        "    );\n",
        "\n",
        "plot_results(FB_results_dict, num_classes=10)\n",
        "plot_scores_per_class(FB_results_dict, num_classes=10)\n",
        "plot_examples(valid_loader.dataset, MLP=FBMLP, num_classes=10)\n",
        "plot_weights(FBMLP);\n",
        "\n",
        "print_results_by_class(FB_results_dict, dataset=\"train\")\n",
        "print_results_by_class(FB_results_dict, dataset=\"valid\")\n",
        "_ = test_model(MLP, test_loader)"
      ]
    }
  ]
}